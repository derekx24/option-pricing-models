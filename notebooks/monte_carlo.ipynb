{
 "cells": [
  {
   "cell_type": "markdown",
   "id": "7358ca55",
   "metadata": {},
   "source": [
    "## Monte Carlo Simulation\n",
    "\n",
    "Monte Carlo simulation is a numerical method for pricing options, especially when closed-form solutions (like Black-Scholes) are unavailable.\n",
    "\n",
    "The main idea is to simulate thousands of possible future stock price paths based on a stochastic process (Geometric Brownian Motion), calculate the option payoff at maturity for each path, and then average the discounted payoffs to estimate the option's fair price.\n",
    "\n",
    "### Key Steps:\n",
    "1. Simulate many possible terminal stock prices using random samples from a normal distribution\n",
    "2. Compute the option payoff for each simulated price\n",
    "3. Average the payoffs and discount to present value using the risk-free rate\n"
   ]
  },
  {
   "cell_type": "code",
   "execution_count": 1,
   "id": "32bbaf70",
   "metadata": {},
   "outputs": [
    {
     "name": "stdout",
     "output_type": "stream",
     "text": [
      "Monte Carlo Call Price: 10.84\n"
     ]
    }
   ],
   "source": [
    "import sys\n",
    "sys.path.append(\"../models\")\n",
    "from monte_carlo import monte_carlo_price\n",
    "\n",
    "S = 100\n",
    "K = 100\n",
    "T = 1\n",
    "r = 0.05\n",
    "sigma = 0.2\n",
    "\n",
    "mc = monte_carlo_price(S, K, T, r, sigma, \"call\")\n",
    "print(f\"Monte Carlo Call Price: {mc:.2f}\")"
   ]
  }
 ],
 "metadata": {
  "kernelspec": {
   "display_name": "venv",
   "language": "python",
   "name": "python3"
  },
  "language_info": {
   "codemirror_mode": {
    "name": "ipython",
    "version": 3
   },
   "file_extension": ".py",
   "mimetype": "text/x-python",
   "name": "python",
   "nbconvert_exporter": "python",
   "pygments_lexer": "ipython3",
   "version": "3.11.5"
  }
 },
 "nbformat": 4,
 "nbformat_minor": 5
}
